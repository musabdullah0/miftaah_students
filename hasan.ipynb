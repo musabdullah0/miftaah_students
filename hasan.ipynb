{
 "cells": [
  {
   "cell_type": "code",
   "execution_count": 16,
   "metadata": {},
   "outputs": [],
   "source": [
    "def get_url(endpoint: str) -> str:\n",
    "    return f\"https://miftaahinstitute.neolms.com/api/v2/{endpoint}?api_key=34549ae698ce0b382e904b7a4c79a44a9da06059e7ec4f4cea7a\""
   ]
  },
  {
   "cell_type": "code",
   "execution_count": 17,
   "metadata": {},
   "outputs": [],
   "source": [
    "import requests\n",
    "import json\n",
    "import pandas as pd\n",
    "import time"
   ]
  },
  {
   "cell_type": "markdown",
   "metadata": {},
   "source": [
    "# Get Users"
   ]
  },
  {
   "cell_type": "code",
   "execution_count": 18,
   "metadata": {},
   "outputs": [],
   "source": [
    "rsp = requests.get(get_url(\"users\"))\n",
    "df_users = pd.DataFrame(rsp.json()['data'])\n",
    "\n",
    "df_users['full_name'] = df_users['first_name'] + ' ' + df_users['last_name']\n",
    "df_users = df_users.rename(columns={\"id\": \"student_user_id\"})\n",
    "df_users = df_users[['student_user_id', 'email', 'full_name', 'joined_at']]"
   ]
  },
  {
   "cell_type": "markdown",
   "metadata": {},
   "source": [
    "## Get Classes"
   ]
  },
  {
   "cell_type": "code",
   "execution_count": 19,
   "metadata": {},
   "outputs": [],
   "source": [
    "rsp = requests.get(get_url(\"classes\"))\n",
    "df_classes = pd.DataFrame(rsp.json()['data'])\n",
    "df_classes = df_classes.rename(columns={\"id\": \"class_id\"})\n",
    "df_classes = df_classes[['class_id', 'name', 'credits', 'start_at', 'finish_at']]"
   ]
  },
  {
   "cell_type": "markdown",
   "metadata": {},
   "source": [
    "## Classes Enrolled"
   ]
  },
  {
   "cell_type": "code",
   "execution_count": 20,
   "metadata": {},
   "outputs": [
    {
     "name": "stdout",
     "output_type": "stream",
     "text": [
      "ERROR fetching classes_enrolled for student_user_id                    11236499\n",
      "email                                  None\n",
      "full_name                        Admin User\n",
      "joined_at          2023-02-14T11:24:42.000Z\n",
      "Name: 0, dtype: object\n",
      "ERROR fetching classes_enrolled for student_user_id                    11236521\n",
      "email                                  None\n",
      "full_name                    Natalie Staton\n",
      "joined_at          2023-02-14T11:24:46.000Z\n",
      "Name: 1, dtype: object\n",
      "ERROR fetching classes_enrolled for student_user_id                     11303258\n",
      "email              hassan.jibril23@gmail.com\n",
      "full_name                      Hassan Jibril\n",
      "joined_at           2023-03-21T19:39:11.000Z\n",
      "Name: 3, dtype: object\n"
     ]
    },
    {
     "name": "stderr",
     "output_type": "stream",
     "text": [
      "/var/folders/mc/1hb24k_n6d5_w0sbwl1w81640000gn/T/ipykernel_48617/2536451740.py:7: FutureWarning: The behavior of DataFrame concatenation with empty or all-NA entries is deprecated. In a future version, this will no longer exclude empty or all-NA columns when determining the result dtypes. To retain the old behavior, exclude the relevant entries before the concat operation.\n",
      "  classes_enrolled_df = pd.concat([classes_enrolled_df, cur_df], ignore_index=True)\n"
     ]
    }
   ],
   "source": [
    "classes_enrolled_df = pd.DataFrame()\n",
    "for i, row in df_users.iterrows():\n",
    "    url = get_url(f\"users/{row.student_user_id}/classes_enrolled\")\n",
    "    data = requests.get(url).json().get(\"data\")\n",
    "    if data:\n",
    "        cur_df = pd.DataFrame(data)\n",
    "        classes_enrolled_df = pd.concat([classes_enrolled_df, cur_df], ignore_index=True)\n",
    "    else:\n",
    "        print(f\"ERROR fetching classes_enrolled for {row}\")"
   ]
  },
  {
   "cell_type": "code",
   "execution_count": 21,
   "metadata": {},
   "outputs": [],
   "source": [
    "classes_enrolled_df = classes_enrolled_df.drop_duplicates(subset=['id'])\n",
    "classes_enrolled_df = classes_enrolled_df[['id', 'student_user_id', 'class_id', 'enrolled_at', 'enroll_type', 'percent', 'grade', 'progress', 'started_at', 'completed_at', 'unenrolled']]"
   ]
  },
  {
   "cell_type": "code",
   "execution_count": 22,
   "metadata": {},
   "outputs": [],
   "source": [
    "merged_df = classes_enrolled_df.merge(df_classes,on='class_id').merge(df_users,on='student_user_id')\n",
    "merged_df = merged_df.drop_duplicates(subset=['id'])\n",
    "merged_df.to_csv('NEO.csv')"
   ]
  },
  {
   "cell_type": "code",
   "execution_count": 23,
   "metadata": {},
   "outputs": [
    {
     "data": {
      "text/plain": [
       "(127, 11)"
      ]
     },
     "execution_count": 23,
     "metadata": {},
     "output_type": "execute_result"
    }
   ],
   "source": [
    "classes_enrolled_df.shape"
   ]
  }
 ],
 "metadata": {
  "kernelspec": {
   "display_name": ".venv",
   "language": "python",
   "name": "python3"
  },
  "language_info": {
   "codemirror_mode": {
    "name": "ipython",
    "version": 3
   },
   "file_extension": ".py",
   "mimetype": "text/x-python",
   "name": "python",
   "nbconvert_exporter": "python",
   "pygments_lexer": "ipython3",
   "version": "3.11.6"
  }
 },
 "nbformat": 4,
 "nbformat_minor": 2
}
